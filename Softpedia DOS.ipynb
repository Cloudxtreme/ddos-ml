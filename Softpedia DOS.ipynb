{
 "metadata": {
  "name": ""
 },
 "nbformat": 3,
 "nbformat_minor": 0,
 "worksheets": [
  {
   "cells": [
    {
     "cell_type": "code",
     "collapsed": false,
     "input": [
      "import urllib2\n",
      "from bs4 import BeautifulSoup"
     ],
     "language": "python",
     "metadata": {},
     "outputs": [],
     "prompt_number": 4
    },
    {
     "cell_type": "code",
     "collapsed": false,
     "input": [
      "agent_string = \"Mozilla/5.0 (Macintosh; Intel Mac OS X 10_9_3) AppleWebKit/537.36 (KHTML, like Gecko) Chrome/35.0.1916.114 Safari/537.36\"\n",
      "opener = urllib2.build_opener()\n",
      "opener.addheaders = [('User-agent', agent_string)]"
     ],
     "language": "python",
     "metadata": {},
     "outputs": [],
     "prompt_number": 5
    },
    {
     "cell_type": "code",
     "collapsed": false,
     "input": [
      "first_pass = BeautifulSoup(opener.open('http://news.softpedia.com/newsTag/DoS').read())"
     ],
     "language": "python",
     "metadata": {},
     "outputs": [],
     "prompt_number": 13
    },
    {
     "cell_type": "code",
     "collapsed": false,
     "input": [
      "headlines = first_pass.findAll('h2')\n",
      "urlList = []\n",
      "for each in headlines:\n",
      "    urlList.append(each.a.get('href'))"
     ],
     "language": "python",
     "metadata": {},
     "outputs": [],
     "prompt_number": 15
    },
    {
     "cell_type": "code",
     "collapsed": false,
     "input": [
      "article = BeautifulSoup(opener.open(urlList[0]).read())\n",
      "article.find('div',{'class':'KonaBody','itemprop':'articleBody'}).text"
     ],
     "language": "python",
     "metadata": {},
     "outputs": [
      {
       "metadata": {},
       "output_type": "pyout",
       "prompt_number": 26,
       "text": [
        "u\"\\n\\nAncestry servers have been hit by a distributed denial-of-service (DDoS) attack that started on Monday, putting on hold the research of the website visitors and the users of the applications relying on the services.  The company announced that Ancestry websites are still not 100% functional and that some services still need to be restored completely.  Among the affected websites is FindAGrave.com, that offers access to 116 million grave records and was acquired by Ancestry.com in September 2013.  The cause of the attack and who\\u2019s behind it remains unknown, as well as why these targets have been set, but the number of users affected is significant, considering that in December 2013 the company had 2.14 million paying subscribers, according to Wikipedia.  Since the attack, the services of the company have been accessible intermittently, creating frustration among users, especially those working with Family Tree Maker, where synchronization of the data still does not work properly. The suggestion in this case is to switch to offline mode until the issue is solved.  Some of the customers demand the company to acknowledge the impact on the subscribers and extend their membership with a few days.  \\u201cI'm now into a third day without Ancestry.com, FindaGrave, RootsWeb and most USGenWeb service (all on Ancestry.com servers). I'm certainly not 'demanding a credit', but I will consider it extremely rude if Ancestry.com doesn't extend our memberships a few days. This may be a nightmare for their Information Systems department (my personal background), but they need to somehow acknowledge the impact on their clients,\\u201d wrote Kimball G. Everingham on Facebook in reply to an Ancestry post.  The company announced that at the moment access to MyCanvas.com and FindAGrave.com should be restored.\\xa0Also, a new database has been added, allowing customers to search the Nevada marriage records from 1862-1993.  The purpose of a DDoS attack is to disable the services of the target by sending irrelevant information to their servers. These incidents sometimes mask other nefarious activities, such as information stealing, which is not the case with Ancestry.  \\u201cYour data was not compromised by this attack. This attack overloaded our servers with massive amounts of traffic but did not impact or access the data within those servers. No data was impacted in any way,\\u201d said Scott Sorensen, Chief Technology Officer at Ancestry.com.  A similar incident affected Feedly last week, when the service had to deal with no less than three consecutive DDoS waves.  Marc Gaffan, co-founder and chief business officer of Incapsula,\\xa0told Softpedia that this sort of attacks may be a preliminary test before the real targets get hit.\\xa0Follow @ionut_ilascu \\n\""
       ]
      }
     ],
     "prompt_number": 26
    },
    {
     "cell_type": "code",
     "collapsed": false,
     "input": [],
     "language": "python",
     "metadata": {},
     "outputs": []
    }
   ],
   "metadata": {}
  }
 ]
}