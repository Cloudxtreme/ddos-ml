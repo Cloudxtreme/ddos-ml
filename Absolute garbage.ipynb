{
 "metadata": {
  "name": ""
 },
 "nbformat": 3,
 "nbformat_minor": 0,
 "worksheets": [
  {
   "cells": [
    {
     "cell_type": "code",
     "collapsed": false,
     "input": [
      "import os\n",
      "import random\n",
      "import scipy as sp\n",
      "import sys\n",
      "from sklearn.feature_extraction.text import TfidfVectorizer\n",
      "import nltk.stem\n",
      "english_stemmer = nltk.stem.SnowballStemmer('english')"
     ],
     "language": "python",
     "metadata": {},
     "outputs": [],
     "prompt_number": 1
    },
    {
     "cell_type": "code",
     "collapsed": false,
     "input": [
      "class StemmedTfidfVectorizer(TfidfVectorizer):\n",
      "    def build_analyzer(self):\n",
      "        analyzer = super(StemmedTfidfVectorizer, self).build_analyzer()\n",
      "        return lambda doc: (english_stemmer.stem(w) for w in analyzer(doc))\n",
      "\n",
      "def dist_raw(v1, v2):\n",
      "    delta = v1 - v2\n",
      "    return sp.linalg.norm(delta.toarray())\n",
      "\n",
      "\n",
      "def dist_norm(v1, v2):\n",
      "    v1_normalized = v1 / sp.linalg.norm(v1.toarray())\n",
      "    v2_normalized = v2 / sp.linalg.norm(v2.toarray())\n",
      "    delta = v1_normalized - v2_normalized\n",
      "    return sp.linalg.norm(delta.toarray())"
     ],
     "language": "python",
     "metadata": {},
     "outputs": [],
     "prompt_number": 2
    },
    {
     "cell_type": "code",
     "collapsed": false,
     "input": [
      "vectorizer = StemmedTfidfVectorizer(\n",
      "    min_df=1, stop_words='english', decode_error='ignore')"
     ],
     "language": "python",
     "metadata": {},
     "outputs": [],
     "prompt_number": 3
    },
    {
     "cell_type": "code",
     "collapsed": false,
     "input": [
      "all_articles = []\n",
      "for eachLabel in ['dos','deface','losstheft','other']:\n",
      "    for eachFile in os.listdir(eachLabel):\n",
      "        fullPath = os.path.join(eachLabel,eachFile)\n",
      "        textFile = open(fullPath)\n",
      "        all_articles.append((textFile.read(), eachLabel))\n",
      "# Now split our articles into three pools, a training set, a devtest set and a testing set.\n",
      "oneThird = len(all_articles)/3\n",
      "twoThird = oneThird*2\n",
      "random.shuffle(all_articles)\n",
      "training = all_articles[0:oneThird]\n",
      "devtest = all_articles[oneThird+1:twoThird]\n",
      "testing = all_articles[twoThird+1:]"
     ],
     "language": "python",
     "metadata": {},
     "outputs": [],
     "prompt_number": 5
    },
    {
     "cell_type": "code",
     "collapsed": false,
     "input": [
      "X_train = vectorizer.fit_transform([w[0] for w in training])"
     ],
     "language": "python",
     "metadata": {},
     "outputs": [],
     "prompt_number": 6
    },
    {
     "cell_type": "code",
     "collapsed": false,
     "input": [
      "num_samples, num_features = X_train.shape\n",
      "print(\"#samples: %d, #features: %d\" % (num_samples, num_features))"
     ],
     "language": "python",
     "metadata": {},
     "outputs": [
      {
       "output_type": "stream",
       "stream": "stdout",
       "text": [
        "#samples: 818, #features: 22011\n"
       ]
      }
     ],
     "prompt_number": 7
    },
    {
     "cell_type": "code",
     "collapsed": false,
     "input": [
      "distances = []\n",
      "for i in range(0, 10):\n",
      "    articleInQuestion = vectorizer.transform([devtest[i][0]])\n",
      "    smallestDistance = 1000\n",
      "    smallestIndex = -1\n",
      "    for e in range(0, len(training)):\n",
      "        post_vec = X_train.getrow(e)\n",
      "        d = dist_raw(post_vec, new_post_vec)\n",
      "        if d < smallestDistance:\n",
      "            smallestDistance = d\n",
      "            smallestIndex = e\n",
      "    distances.append((i, smallestIndex, smallestDistance))\n",
      "for each in distances:\n",
      "    print \"Closest match for devtest[%s] is training[%s] with a score of %s\" % each"
     ],
     "language": "python",
     "metadata": {},
     "outputs": [
      {
       "output_type": "stream",
       "stream": "stdout",
       "text": [
        "Closest match for devtest[0] is training[640] with a score of 0.902143856535\n",
        "Closest match for devtest[1] is training[640] with a score of 0.902143856535\n",
        "Closest match for devtest[2] is training[640] with a score of 0.902143856535\n",
        "Closest match for devtest[3] is training[640] with a score of 0.902143856535\n",
        "Closest match for devtest[4] is training[640] with a score of 0.902143856535\n",
        "Closest match for devtest[5] is training[640] with a score of 0.902143856535\n",
        "Closest match for devtest[6] is training[640] with a score of 0.902143856535\n",
        "Closest match for devtest[7] is training[640] with a score of 0.902143856535\n",
        "Closest match for devtest[8] is training[640] with a score of 0.902143856535\n",
        "Closest match for devtest[9] is training[640] with a score of 0.902143856535\n"
       ]
      }
     ],
     "prompt_number": 21
    },
    {
     "cell_type": "code",
     "collapsed": false,
     "input": [
      "vectorizer.transform([devtest[0][0]])"
     ],
     "language": "python",
     "metadata": {},
     "outputs": [
      {
       "metadata": {},
       "output_type": "pyout",
       "prompt_number": 16,
       "text": [
        "<1x22011 sparse matrix of type '<type 'numpy.float64'>'\n",
        "\twith 210 stored elements in Compressed Sparse Row format>"
       ]
      }
     ],
     "prompt_number": 16
    },
    {
     "cell_type": "code",
     "collapsed": false,
     "input": [
      "vectorizer.transform([devtest[1][0]])"
     ],
     "language": "python",
     "metadata": {},
     "outputs": [
      {
       "metadata": {},
       "output_type": "pyout",
       "prompt_number": 17,
       "text": [
        "<1x22011 sparse matrix of type '<type 'numpy.float64'>'\n",
        "\twith 427 stored elements in Compressed Sparse Row format>"
       ]
      }
     ],
     "prompt_number": 17
    },
    {
     "cell_type": "code",
     "collapsed": false,
     "input": [
      "X_train.getrow(640)"
     ],
     "language": "python",
     "metadata": {},
     "outputs": [
      {
       "metadata": {},
       "output_type": "pyout",
       "prompt_number": 20,
       "text": [
        "<1x22011 sparse matrix of type '<type 'numpy.float64'>'\n",
        "\twith 225 stored elements in Compressed Sparse Row format>"
       ]
      }
     ],
     "prompt_number": 20
    },
    {
     "cell_type": "code",
     "collapsed": false,
     "input": [
      "training[640][0]"
     ],
     "language": "python",
     "metadata": {},
     "outputs": [
      {
       "metadata": {},
       "output_type": "pyout",
       "prompt_number": 22,
       "text": [
        "'\\t\\t Oddiverse Laptops & Tablets NEW! 3D Printing Photo NEW! Wearable Tech Games Microsoft Apple Telecoms Technology & Gadgets Reviews Linux Life and Style Webmaster Security Editorials Interviews Science Green \\t\\t \\n\\t\\t   Axl Rose Considers Retiring, Has Plans to Break Up Guns N&#039; Roses   Micromax Unite 2 Is World\\xe2\\x80\\x99s First Smartphone with 21 Languages, on Sale from May 22   Next Battlefield Is Called SWAT, Created by Visceral \\xe2\\x80\\x93 Report   Mark Shuttleworth Says That Ubuntu Is Now the Biggest OS in the Cloud   Fedora 20 with KDE Frameworks 5 and Plasma Next Looks Awesome   Axl Rose Mocks Red Hot Chili Peppers\\xe2\\x80\\x99 Halftime Show at the Super Bowl 2014   Left 4 Dead 3 and Half-Life 3 in Development at Valve, Counter-Strike Creator Says   Rihanna Gets into a Bitter Twitter Battle with Charlie Sheen, Is Called  Village Idiot    Moto E Back in Stock in India at Flipkart [Update]   Nokia Lumia 630 Now Available in the UK at Carphone Warehouse \\n\\t\\t\\t\\t\\t\\t\\t September 28th, 2013, 07:22 GMT   By Eduard Kovacs \\n\\t\\t\\t\\t\\t\\t\\t\\t\\t\\t\\t\\t\\t\\t\\t\\t\\t\\t\\t\\t Maxney, a hacker of the Turkish Ajan group, claims to have breached the official website of Lexington (lexingtonky.gov), the second largest city in Kentucky, also known as the  Horse Capital of the World.  \\nThe hacker has published a 1.5 Mb archive file that contains information apparently taken from the website s databases. The leaked files appear to contain audit information, work orders, user codes, neighborhood association data, and other details. \\nI ve tried to contact Lexington representatives to see if they re aware of the breach. Considering that the website itself hasn t been altered, it s possible that they don t know about the hack. I ll update this post if they respond to my inquiry. \\nMaxney is famous for leaking data from the websites of high-profile organizations. His latest targets have been Pizza Hut , Sony , and the US Air Force Culture and Language Center. Follow @softpedianews \\t\\t\\t\\t\\t\\t\\t\\t\\t\\t\\t\\t\\t\\t\\t\\t\\t\\t\\t\\t\\n\\t\\t\\t\\t\\t\\t\\t Casio China Hacked by Turkish Ajan, Details of 150,000 Users Leaked  Turkish Hackers Target Spain and Malta Websites of Pizza Hut  Turkish Hackers Claim to Have Breached Sony Italy, 40,000 Accounts Leaked  US Air Force Culture and Language Center Site Taken Down After Being Hacked  Samsung Kazakhstan Hacked, User Login Data Leaked \\t\\t\\t\\t\\t\\t\\t \\n\\t\\t\\t\\t\\t\\t\\t Comment #1 by: WP-John on 16 Oct 2013, 22:25 UTC  reply to this comment  The Turkish Hackers (there must be more than one) keep popping up time to time. I have written an article to help others who have WordPress sites infected by this sort of attack. \\r\\n SUBMIT PROGRAM | ADVERTISE | GET HELP | SEND US FEEDBACK | RSS FEEDS | UPDATE YOUR SOFTWARE | ROMANIAN FORUM \\n   2001 - 2014 Softpedia . All rights reserved. Softpedia  and the Softpedia  logo are registered trademarks of SoftNews NET SRL. \\n'"
       ]
      }
     ],
     "prompt_number": 22
    },
    {
     "cell_type": "code",
     "collapsed": false,
     "input": [],
     "language": "python",
     "metadata": {},
     "outputs": []
    }
   ],
   "metadata": {}
  }
 ]
}